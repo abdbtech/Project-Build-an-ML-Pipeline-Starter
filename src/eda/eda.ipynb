{
 "cells": [
  {
   "cell_type": "code",
   "execution_count": 1,
   "id": "1f72a955",
   "metadata": {
    "scrolled": true,
    "tags": []
   },
   "outputs": [
    {
     "name": "stdout",
     "output_type": "stream",
     "text": [
      "Collecting wandb==0.16.0\n",
      "  Downloading wandb-0.16.0-py3-none-any.whl.metadata (9.8 kB)\n",
      "Collecting Click!=8.0.0,>=7.1 (from wandb==0.16.0)\n",
      "  Downloading click-8.2.1-py3-none-any.whl.metadata (2.5 kB)\n",
      "Collecting GitPython!=3.1.29,>=1.0.0 (from wandb==0.16.0)\n",
      "  Downloading gitpython-3.1.45-py3-none-any.whl.metadata (13 kB)\n",
      "Requirement already satisfied: requests<3,>=2.0.0 in c:\\users\\alben\\appdata\\local\\programs\\python\\python313\\lib\\site-packages (from wandb==0.16.0) (2.32.4)\n",
      "Requirement already satisfied: psutil>=5.0.0 in c:\\users\\alben\\appdata\\roaming\\python\\python313\\site-packages (from wandb==0.16.0) (7.0.0)\n",
      "Collecting sentry-sdk>=1.0.0 (from wandb==0.16.0)\n",
      "  Downloading sentry_sdk-2.36.0-py2.py3-none-any.whl.metadata (10 kB)\n",
      "Collecting docker-pycreds>=0.4.0 (from wandb==0.16.0)\n",
      "  Downloading docker_pycreds-0.4.0-py2.py3-none-any.whl.metadata (1.8 kB)\n",
      "Requirement already satisfied: PyYAML in c:\\users\\alben\\appdata\\local\\programs\\python\\python313\\lib\\site-packages (from wandb==0.16.0) (6.0.2)\n",
      "Collecting setproctitle (from wandb==0.16.0)\n",
      "  Downloading setproctitle-1.3.6-cp313-cp313-win_amd64.whl.metadata (10 kB)\n",
      "Requirement already satisfied: setuptools in c:\\users\\alben\\appdata\\local\\programs\\python\\python313\\lib\\site-packages (from wandb==0.16.0) (78.0.1)\n",
      "Collecting appdirs>=1.4.3 (from wandb==0.16.0)\n",
      "  Downloading appdirs-1.4.4-py2.py3-none-any.whl.metadata (9.0 kB)\n",
      "Collecting protobuf!=4.21.0,<5,>=3.19.0 (from wandb==0.16.0)\n",
      "  Downloading protobuf-4.25.8-cp310-abi3-win_amd64.whl.metadata (541 bytes)\n",
      "Requirement already satisfied: charset_normalizer<4,>=2 in c:\\users\\alben\\appdata\\local\\programs\\python\\python313\\lib\\site-packages (from requests<3,>=2.0.0->wandb==0.16.0) (3.4.2)\n",
      "Requirement already satisfied: idna<4,>=2.5 in c:\\users\\alben\\appdata\\local\\programs\\python\\python313\\lib\\site-packages (from requests<3,>=2.0.0->wandb==0.16.0) (3.10)\n",
      "Requirement already satisfied: urllib3<3,>=1.21.1 in c:\\users\\alben\\appdata\\local\\programs\\python\\python313\\lib\\site-packages (from requests<3,>=2.0.0->wandb==0.16.0) (2.5.0)\n",
      "Requirement already satisfied: certifi>=2017.4.17 in c:\\users\\alben\\appdata\\local\\programs\\python\\python313\\lib\\site-packages (from requests<3,>=2.0.0->wandb==0.16.0) (2025.6.15)\n",
      "Requirement already satisfied: colorama in c:\\users\\alben\\appdata\\roaming\\python\\python313\\site-packages (from Click!=8.0.0,>=7.1->wandb==0.16.0) (0.4.6)\n",
      "Requirement already satisfied: six>=1.4.0 in c:\\users\\alben\\appdata\\local\\programs\\python\\python313\\lib\\site-packages (from docker-pycreds>=0.4.0->wandb==0.16.0) (1.17.0)\n",
      "Collecting gitdb<5,>=4.0.1 (from GitPython!=3.1.29,>=1.0.0->wandb==0.16.0)\n",
      "  Downloading gitdb-4.0.12-py3-none-any.whl.metadata (1.2 kB)\n",
      "Collecting smmap<6,>=3.0.1 (from gitdb<5,>=4.0.1->GitPython!=3.1.29,>=1.0.0->wandb==0.16.0)\n",
      "  Downloading smmap-5.0.2-py3-none-any.whl.metadata (4.3 kB)\n",
      "Downloading wandb-0.16.0-py3-none-any.whl (2.1 MB)\n",
      "   ---------------------------------------- 0.0/2.1 MB ? eta -:--:--\n",
      "   ---------------------------------------- 2.1/2.1 MB 23.2 MB/s  0:00:00\n",
      "Downloading protobuf-4.25.8-cp310-abi3-win_amd64.whl (413 kB)\n",
      "Downloading appdirs-1.4.4-py2.py3-none-any.whl (9.6 kB)\n",
      "Downloading click-8.2.1-py3-none-any.whl (102 kB)\n",
      "Downloading docker_pycreds-0.4.0-py2.py3-none-any.whl (9.0 kB)\n",
      "Downloading gitpython-3.1.45-py3-none-any.whl (208 kB)\n",
      "Downloading gitdb-4.0.12-py3-none-any.whl (62 kB)\n",
      "Downloading smmap-5.0.2-py3-none-any.whl (24 kB)\n",
      "Downloading sentry_sdk-2.36.0-py2.py3-none-any.whl (364 kB)\n",
      "Downloading setproctitle-1.3.6-cp313-cp313-win_amd64.whl (12 kB)\n",
      "Installing collected packages: appdirs, smmap, setproctitle, sentry-sdk, protobuf, docker-pycreds, Click, gitdb, GitPython, wandb\n",
      "\n",
      "   ------------ ---------------------------  3/10 [sentry-sdk]\n",
      "   ------------ ---------------------------  3/10 [sentry-sdk]\n",
      "   ------------ ---------------------------  3/10 [sentry-sdk]\n",
      "   ------------ ---------------------------  3/10 [sentry-sdk]\n",
      "   ------------ ---------------------------  3/10 [sentry-sdk]\n",
      "   ------------ ---------------------------  3/10 [sentry-sdk]\n",
      "   ------------ ---------------------------  3/10 [sentry-sdk]\n",
      "   ---------------- -----------------------  4/10 [protobuf]\n",
      "   ---------------- -----------------------  4/10 [protobuf]\n",
      "   ---------------- -----------------------  4/10 [protobuf]\n",
      "   ------------------------ ---------------  6/10 [Click]\n",
      "   ---------------------------- -----------  7/10 [gitdb]\n",
      "   -------------------------------- -------  8/10 [GitPython]\n",
      "   -------------------------------- -------  8/10 [GitPython]\n",
      "   ------------------------------------ ---  9/10 [wandb]\n",
      "   ------------------------------------ ---  9/10 [wandb]\n",
      "   ------------------------------------ ---  9/10 [wandb]\n",
      "   ------------------------------------ ---  9/10 [wandb]\n",
      "   ------------------------------------ ---  9/10 [wandb]\n",
      "   ------------------------------------ ---  9/10 [wandb]\n",
      "   ------------------------------------ ---  9/10 [wandb]\n",
      "   ------------------------------------ ---  9/10 [wandb]\n",
      "   ------------------------------------ ---  9/10 [wandb]\n",
      "   ------------------------------------ ---  9/10 [wandb]\n",
      "   ------------------------------------ ---  9/10 [wandb]\n",
      "   ------------------------------------ ---  9/10 [wandb]\n",
      "   ------------------------------------ ---  9/10 [wandb]\n",
      "   ------------------------------------ ---  9/10 [wandb]\n",
      "   ------------------------------------ ---  9/10 [wandb]\n",
      "   ------------------------------------ ---  9/10 [wandb]\n",
      "   ------------------------------------ ---  9/10 [wandb]\n",
      "   ------------------------------------ ---  9/10 [wandb]\n",
      "   ------------------------------------ ---  9/10 [wandb]\n",
      "   ------------------------------------ ---  9/10 [wandb]\n",
      "   ------------------------------------ ---  9/10 [wandb]\n",
      "   ------------------------------------ ---  9/10 [wandb]\n",
      "   ------------------------------------ ---  9/10 [wandb]\n",
      "   ------------------------------------ ---  9/10 [wandb]\n",
      "   ------------------------------------ ---  9/10 [wandb]\n",
      "   ------------------------------------ ---  9/10 [wandb]\n",
      "   ------------------------------------ ---  9/10 [wandb]\n",
      "   ------------------------------------ ---  9/10 [wandb]\n",
      "   ------------------------------------ ---  9/10 [wandb]\n",
      "   ------------------------------------ ---  9/10 [wandb]\n",
      "   ------------------------------------ ---  9/10 [wandb]\n",
      "   ------------------------------------ ---  9/10 [wandb]\n",
      "   ------------------------------------ ---  9/10 [wandb]\n",
      "   ------------------------------------ ---  9/10 [wandb]\n",
      "   ---------------------------------------- 10/10 [wandb]\n",
      "\n",
      "Successfully installed Click-8.2.1 GitPython-3.1.45 appdirs-1.4.4 docker-pycreds-0.4.0 gitdb-4.0.12 protobuf-4.25.8 sentry-sdk-2.36.0 setproctitle-1.3.6 smmap-5.0.2 wandb-0.16.0\n"
     ]
    },
    {
     "name": "stderr",
     "output_type": "stream",
     "text": [
      "ERROR: Ignored the following versions that require a different python version: 4.0.0 Requires-Python >=3.7,<3.11; 4.1.0 Requires-Python >=3.7,<3.12; 4.1.1 Requires-Python >=3.7,<3.12; 4.1.2 Requires-Python >=3.7,<3.12; 4.10.0 Requires-Python >=3.7,<3.13; 4.11.0 Requires-Python >=3.7,<3.13; 4.12.0 Requires-Python >=3.7,<3.13; 4.12.1 Requires-Python >=3.7,<3.13; 4.12.2 Requires-Python >=3.7,<3.13; 4.13.0 Requires-Python >=3.7,<3.13; 4.14.0 Requires-Python >=3.7,<3.13; 4.15.0 Requires-Python >=3.7,<3.13; 4.15.1 Requires-Python >=3.7,<3.13; 4.16.0 Requires-Python >=3.7,<3.13; 4.16.1 Requires-Python >=3.7,<3.13; 4.2.0 Requires-Python >=3.7,<3.12; 4.3.0 Requires-Python >=3.7,<3.12; 4.3.1 Requires-Python >=3.7,<3.12; 4.3.2 Requires-Python >=3.7,<3.12; 4.4.0 Requires-Python >=3.7,<3.12; 4.5.0 Requires-Python >=3.7,<3.12; 4.5.1 Requires-Python >=3.7,<3.12; 4.6.0 Requires-Python >=3.7,<3.12; 4.6.1 Requires-Python >=3.7,<3.12; 4.6.2 Requires-Python >=3.7,<3.12; 4.6.3 Requires-Python >=3.7,<3.12; 4.6.4 Requires-Python >=3.7,<3.12; 4.6.5 Requires-Python >=3.7,<3.12; 4.7.0 Requires-Python >=3.7,<3.13; 4.8.3 Requires-Python >=3.7,<3.13; 4.9.0 Requires-Python >=3.7,<3.13\n",
      "ERROR: Could not find a version that satisfies the requirement ydata-profiling==4.12.1 (from versions: none)\n",
      "ERROR: No matching distribution found for ydata-profiling==4.12.1\n"
     ]
    },
    {
     "name": "stdout",
     "output_type": "stream",
     "text": [
      "Collecting pandas==2.1.3\n",
      "  Downloading pandas-2.1.3.tar.gz (4.3 MB)\n",
      "     ---------------------------------------- 0.0/4.3 MB ? eta -:--:--\n",
      "     ---------------------- ----------------- 2.4/4.3 MB 14.4 MB/s eta 0:00:01\n",
      "     ---------------------------------------- 4.3/4.3 MB 14.2 MB/s  0:00:00\n",
      "  Installing build dependencies: started\n",
      "  Installing build dependencies: finished with status 'error'\n"
     ]
    },
    {
     "name": "stderr",
     "output_type": "stream",
     "text": [
      "  error: subprocess-exited-with-error\n",
      "  \n",
      "  × pip subprocess to install build dependencies did not run successfully.\n",
      "  │ exit code: 1\n",
      "  ╰─> [60 lines of output]\n",
      "      Ignoring oldest-supported-numpy: markers 'python_version < \"3.12\"' don't match your environment\n",
      "      Collecting meson-python==0.13.1\n",
      "        Downloading meson_python-0.13.1-py3-none-any.whl.metadata (4.1 kB)\n",
      "      Collecting meson==1.2.1\n",
      "        Downloading meson-1.2.1-py3-none-any.whl.metadata (1.7 kB)\n",
      "      Collecting wheel\n",
      "        Using cached wheel-0.45.1-py3-none-any.whl.metadata (2.3 kB)\n",
      "      Collecting Cython<3,>=0.29.33\n",
      "        Downloading Cython-0.29.37-py2.py3-none-any.whl.metadata (3.1 kB)\n",
      "      Collecting numpy<2,>=1.26.0\n",
      "        Downloading numpy-1.26.4.tar.gz (15.8 MB)\n",
      "           ---------------------------------------- 0.0/15.8 MB ? eta -:--:--\n",
      "           ------------------- -------------------- 7.6/15.8 MB 54.6 MB/s eta 0:00:01\n",
      "           --------------------------------- ----- 13.6/15.8 MB 38.4 MB/s eta 0:00:01\n",
      "           ------------------------------------ -- 14.7/15.8 MB 27.3 MB/s eta 0:00:01\n",
      "           ---------------------------------------- 15.8/15.8 MB 21.5 MB/s  0:00:00\n",
      "        Installing build dependencies: started\n",
      "        Installing build dependencies: finished with status 'done'\n",
      "        Getting requirements to build wheel: started\n",
      "        Getting requirements to build wheel: finished with status 'done'\n",
      "        Installing backend dependencies: started\n",
      "        Installing backend dependencies: finished with status 'done'\n",
      "        Preparing metadata (pyproject.toml): started\n",
      "        Preparing metadata (pyproject.toml): finished with status 'error'\n",
      "        error: subprocess-exited-with-error\n",
      "      \n",
      "        Ã— Preparing metadata (pyproject.toml) did not run successfully.\n",
      "        â”‚ exit code: 1\n",
      "        â•°â”€> [21 lines of output]\n",
      "            + C:\\Users\\alben\\AppData\\Local\\Programs\\Python\\Python313\\python.exe C:\\Users\\alben\\AppData\\Local\\Temp\\pip-install-u5m1ghcl\\numpy_1bc5d405083b4addb264ec9d5aa6e265\\vendored-meson\\meson\\meson.py setup C:\\Users\\alben\\AppData\\Local\\Temp\\pip-install-u5m1ghcl\\numpy_1bc5d405083b4addb264ec9d5aa6e265 C:\\Users\\alben\\AppData\\Local\\Temp\\pip-install-u5m1ghcl\\numpy_1bc5d405083b4addb264ec9d5aa6e265\\.mesonpy-rvbo9g8y -Dbuildtype=release -Db_ndebug=if-release -Db_vscrt=md --native-file=C:\\Users\\alben\\AppData\\Local\\Temp\\pip-install-u5m1ghcl\\numpy_1bc5d405083b4addb264ec9d5aa6e265\\.mesonpy-rvbo9g8y\\meson-python-native-file.ini\n",
      "            The Meson build system\n",
      "            Version: 1.2.99\n",
      "            Source dir: C:\\Users\\alben\\AppData\\Local\\Temp\\pip-install-u5m1ghcl\\numpy_1bc5d405083b4addb264ec9d5aa6e265\n",
      "            Build dir: C:\\Users\\alben\\AppData\\Local\\Temp\\pip-install-u5m1ghcl\\numpy_1bc5d405083b4addb264ec9d5aa6e265\\.mesonpy-rvbo9g8y\n",
      "            Build type: native build\n",
      "            Project name: NumPy\n",
      "            Project version: 1.26.4\n",
      "            WARNING: Failed to activate VS environment: Could not find C:\\Program Files (x86)\\Microsoft Visual Studio\\Installer\\vswhere.exe\n",
      "      \n",
      "            ..\\meson.build:1:0: ERROR: Unknown compiler(s): [['icl'], ['cl'], ['cc'], ['gcc'], ['clang'], ['clang-cl'], ['pgcc']]\n",
      "            The following exception(s) were encountered:\n",
      "            Running `icl \"\"` gave \"[WinError 2] The system cannot find the file specified\"\n",
      "            Running `cl /?` gave \"[WinError 2] The system cannot find the file specified\"\n",
      "            Running `cc --version` gave \"[WinError 2] The system cannot find the file specified\"\n",
      "            Running `gcc --version` gave \"[WinError 2] The system cannot find the file specified\"\n",
      "            Running `clang --version` gave \"[WinError 2] The system cannot find the file specified\"\n",
      "            Running `clang-cl /?` gave \"[WinError 2] The system cannot find the file specified\"\n",
      "            Running `pgcc --version` gave \"[WinError 2] The system cannot find the file specified\"\n",
      "      \n",
      "            A full log can be found at C:\\Users\\alben\\AppData\\Local\\Temp\\pip-install-u5m1ghcl\\numpy_1bc5d405083b4addb264ec9d5aa6e265\\.mesonpy-rvbo9g8y\\meson-logs\\meson-log.txt\n",
      "            [end of output]\n",
      "      \n",
      "        note: This error originates from a subprocess, and is likely not a problem with pip.\n",
      "      error: metadata-generation-failed\n",
      "      \n",
      "      Ã— Encountered error while generating package metadata.\n",
      "      â•°â”€> See above for output.\n",
      "      \n",
      "      note: This is an issue with the package mentioned above, not pip.\n",
      "      hint: See above for details.\n",
      "      [end of output]\n",
      "  \n",
      "  note: This error originates from a subprocess, and is likely not a problem with pip.\n",
      "error: subprocess-exited-with-error\n",
      "\n",
      "× pip subprocess to install build dependencies did not run successfully.\n",
      "│ exit code: 1\n",
      "╰─> See above for output.\n",
      "\n",
      "note: This error originates from a subprocess, and is likely not a problem with pip.\n"
     ]
    }
   ],
   "source": [
    "!pip install wandb==0.16.0\n",
    "!pip install ydata-profiling==4.12.1\n",
    "!pip install pandas==2.1.3"
   ]
  },
  {
   "cell_type": "markdown",
   "id": "54c4f98a",
   "metadata": {},
   "source": [
    "1. Fetch the artifact we just created (sample.csv) from W&B and read it with pandas:"
   ]
  },
  {
   "cell_type": "code",
   "execution_count": 2,
   "id": "eed98c34",
   "metadata": {},
   "outputs": [
    {
     "ename": "AttributeError",
     "evalue": "`np.float_` was removed in the NumPy 2.0 release. Use `np.float64` instead.",
     "output_type": "error",
     "traceback": [
      "\u001b[31m---------------------------------------------------------------------------\u001b[39m",
      "\u001b[31mAttributeError\u001b[39m                            Traceback (most recent call last)",
      "\u001b[36mCell\u001b[39m\u001b[36m \u001b[39m\u001b[32mIn[2]\u001b[39m\u001b[32m, line 1\u001b[39m\n\u001b[32m----> \u001b[39m\u001b[32m1\u001b[39m \u001b[38;5;28;01mimport\u001b[39;00m\u001b[38;5;250m \u001b[39m\u001b[34;01mwandb\u001b[39;00m\n\u001b[32m      2\u001b[39m \u001b[38;5;28;01mimport\u001b[39;00m\u001b[38;5;250m \u001b[39m\u001b[34;01mpandas\u001b[39;00m\u001b[38;5;250m \u001b[39m\u001b[38;5;28;01mas\u001b[39;00m\u001b[38;5;250m \u001b[39m\u001b[34;01mpd\u001b[39;00m\n\u001b[32m      3\u001b[39m \u001b[38;5;66;03m# Note that we use save_code=True in the call to wandb.init so the notebook is uploaded and versioned by W&B\u001b[39;00m\n",
      "\u001b[36mFile \u001b[39m\u001b[32mc:\\Users\\alben\\AppData\\Local\\Programs\\Python\\Python313\\Lib\\site-packages\\wandb\\__init__.py:27\u001b[39m\n\u001b[32m     24\u001b[39m \u001b[38;5;66;03m# This needs to be early as other modules call it.\u001b[39;00m\n\u001b[32m     25\u001b[39m \u001b[38;5;28;01mfrom\u001b[39;00m\u001b[38;5;250m \u001b[39m\u001b[34;01mwandb\u001b[39;00m\u001b[34;01m.\u001b[39;00m\u001b[34;01merrors\u001b[39;00m\u001b[34;01m.\u001b[39;00m\u001b[34;01mterm\u001b[39;00m\u001b[38;5;250m \u001b[39m\u001b[38;5;28;01mimport\u001b[39;00m termsetup, termlog, termerror, termwarn\n\u001b[32m---> \u001b[39m\u001b[32m27\u001b[39m \u001b[38;5;28;01mfrom\u001b[39;00m\u001b[38;5;250m \u001b[39m\u001b[34;01mwandb\u001b[39;00m\u001b[38;5;250m \u001b[39m\u001b[38;5;28;01mimport\u001b[39;00m sdk \u001b[38;5;28;01mas\u001b[39;00m wandb_sdk\n\u001b[32m     29\u001b[39m \u001b[38;5;28;01mimport\u001b[39;00m\u001b[38;5;250m \u001b[39m\u001b[34;01mwandb\u001b[39;00m\n\u001b[32m     31\u001b[39m wandb.wandb_lib = wandb_sdk.lib\n",
      "\u001b[36mFile \u001b[39m\u001b[32mc:\\Users\\alben\\AppData\\Local\\Programs\\Python\\Python313\\Lib\\site-packages\\wandb\\sdk\\__init__.py:4\u001b[39m\n\u001b[32m      1\u001b[39m \u001b[33;03m\"\"\"module sdk.\"\"\"\u001b[39;00m\n\u001b[32m      3\u001b[39m \u001b[38;5;28;01mfrom\u001b[39;00m\u001b[38;5;250m \u001b[39m\u001b[34;01m.\u001b[39;00m\u001b[38;5;250m \u001b[39m\u001b[38;5;28;01mimport\u001b[39;00m wandb_helper \u001b[38;5;28;01mas\u001b[39;00m helper  \u001b[38;5;66;03m# noqa: F401\u001b[39;00m\n\u001b[32m----> \u001b[39m\u001b[32m4\u001b[39m \u001b[38;5;28;01mfrom\u001b[39;00m\u001b[38;5;250m \u001b[39m\u001b[34;01m.\u001b[39;00m\u001b[34;01martifacts\u001b[39;00m\u001b[34;01m.\u001b[39;00m\u001b[34;01martifact\u001b[39;00m\u001b[38;5;250m \u001b[39m\u001b[38;5;28;01mimport\u001b[39;00m Artifact  \u001b[38;5;66;03m# noqa: F401\u001b[39;00m\n\u001b[32m      5\u001b[39m \u001b[38;5;28;01mfrom\u001b[39;00m\u001b[38;5;250m \u001b[39m\u001b[34;01m.\u001b[39;00m\u001b[34;01mwandb_alerts\u001b[39;00m\u001b[38;5;250m \u001b[39m\u001b[38;5;28;01mimport\u001b[39;00m AlertLevel  \u001b[38;5;66;03m# noqa: F401\u001b[39;00m\n\u001b[32m      6\u001b[39m \u001b[38;5;28;01mfrom\u001b[39;00m\u001b[38;5;250m \u001b[39m\u001b[34;01m.\u001b[39;00m\u001b[34;01mwandb_config\u001b[39;00m\u001b[38;5;250m \u001b[39m\u001b[38;5;28;01mimport\u001b[39;00m Config  \u001b[38;5;66;03m# noqa: F401\u001b[39;00m\n",
      "\u001b[36mFile \u001b[39m\u001b[32mc:\\Users\\alben\\AppData\\Local\\Programs\\Python\\Python313\\Lib\\site-packages\\wandb\\sdk\\artifacts\\artifact.py:35\u001b[39m\n\u001b[32m     32\u001b[39m \u001b[38;5;28;01mimport\u001b[39;00m\u001b[38;5;250m \u001b[39m\u001b[34;01mrequests\u001b[39;00m\n\u001b[32m     34\u001b[39m \u001b[38;5;28;01mimport\u001b[39;00m\u001b[38;5;250m \u001b[39m\u001b[34;01mwandb\u001b[39;00m\n\u001b[32m---> \u001b[39m\u001b[32m35\u001b[39m \u001b[38;5;28;01mfrom\u001b[39;00m\u001b[38;5;250m \u001b[39m\u001b[34;01mwandb\u001b[39;00m\u001b[38;5;250m \u001b[39m\u001b[38;5;28;01mimport\u001b[39;00m data_types, env, util\n\u001b[32m     36\u001b[39m \u001b[38;5;28;01mfrom\u001b[39;00m\u001b[38;5;250m \u001b[39m\u001b[34;01mwandb\u001b[39;00m\u001b[34;01m.\u001b[39;00m\u001b[34;01mapis\u001b[39;00m\u001b[34;01m.\u001b[39;00m\u001b[34;01mnormalize\u001b[39;00m\u001b[38;5;250m \u001b[39m\u001b[38;5;28;01mimport\u001b[39;00m normalize_exceptions\n\u001b[32m     37\u001b[39m \u001b[38;5;28;01mfrom\u001b[39;00m\u001b[38;5;250m \u001b[39m\u001b[34;01mwandb\u001b[39;00m\u001b[34;01m.\u001b[39;00m\u001b[34;01mapis\u001b[39;00m\u001b[34;01m.\u001b[39;00m\u001b[34;01mpublic\u001b[39;00m\u001b[38;5;250m \u001b[39m\u001b[38;5;28;01mimport\u001b[39;00m ArtifactCollection, ArtifactFiles, RetryingClient, Run\n",
      "\u001b[36mFile \u001b[39m\u001b[32mc:\\Users\\alben\\AppData\\Local\\Programs\\Python\\Python313\\Lib\\site-packages\\wandb\\data_types.py:33\u001b[39m\n\u001b[32m     30\u001b[39m \u001b[38;5;28;01mfrom\u001b[39;00m\u001b[38;5;250m \u001b[39m\u001b[34;01mwandb\u001b[39;00m\u001b[38;5;250m \u001b[39m\u001b[38;5;28;01mimport\u001b[39;00m util\n\u001b[32m     31\u001b[39m \u001b[38;5;28;01mfrom\u001b[39;00m\u001b[38;5;250m \u001b[39m\u001b[34;01mwandb\u001b[39;00m\u001b[34;01m.\u001b[39;00m\u001b[34;01msdk\u001b[39;00m\u001b[34;01m.\u001b[39;00m\u001b[34;01mlib\u001b[39;00m\u001b[38;5;250m \u001b[39m\u001b[38;5;28;01mimport\u001b[39;00m filesystem\n\u001b[32m---> \u001b[39m\u001b[32m33\u001b[39m \u001b[38;5;28;01mfrom\u001b[39;00m\u001b[38;5;250m \u001b[39m\u001b[34;01m.\u001b[39;00m\u001b[34;01msdk\u001b[39;00m\u001b[34;01m.\u001b[39;00m\u001b[34;01mdata_types\u001b[39;00m\u001b[38;5;250m \u001b[39m\u001b[38;5;28;01mimport\u001b[39;00m _dtypes\n\u001b[32m     34\u001b[39m \u001b[38;5;28;01mfrom\u001b[39;00m\u001b[38;5;250m \u001b[39m\u001b[34;01m.\u001b[39;00m\u001b[34;01msdk\u001b[39;00m\u001b[34;01m.\u001b[39;00m\u001b[34;01mdata_types\u001b[39;00m\u001b[34;01m.\u001b[39;00m\u001b[34;01mbase_types\u001b[39;00m\u001b[34;01m.\u001b[39;00m\u001b[34;01mmedia\u001b[39;00m\u001b[38;5;250m \u001b[39m\u001b[38;5;28;01mimport\u001b[39;00m (\n\u001b[32m     35\u001b[39m     BatchableMedia,\n\u001b[32m     36\u001b[39m     Media,\n\u001b[32m     37\u001b[39m     _numpy_arrays_to_lists,\n\u001b[32m     38\u001b[39m )\n\u001b[32m     39\u001b[39m \u001b[38;5;28;01mfrom\u001b[39;00m\u001b[38;5;250m \u001b[39m\u001b[34;01m.\u001b[39;00m\u001b[34;01msdk\u001b[39;00m\u001b[34;01m.\u001b[39;00m\u001b[34;01mdata_types\u001b[39;00m\u001b[34;01m.\u001b[39;00m\u001b[34;01mbase_types\u001b[39;00m\u001b[34;01m.\u001b[39;00m\u001b[34;01mwb_value\u001b[39;00m\u001b[38;5;250m \u001b[39m\u001b[38;5;28;01mimport\u001b[39;00m WBValue\n",
      "\u001b[36mFile \u001b[39m\u001b[32mc:\\Users\\alben\\AppData\\Local\\Programs\\Python\\Python313\\Lib\\site-packages\\wandb\\sdk\\data_types\\_dtypes.py:396\u001b[39m\n\u001b[32m    394\u001b[39m NumberType.types.append(np.float32)\n\u001b[32m    395\u001b[39m NumberType.types.append(np.float64)\n\u001b[32m--> \u001b[39m\u001b[32m396\u001b[39m NumberType.types.append(\u001b[43mnp\u001b[49m\u001b[43m.\u001b[49m\u001b[43mfloat_\u001b[49m)\n\u001b[32m    397\u001b[39m NumberType.types.append(np.complex64)\n\u001b[32m    398\u001b[39m NumberType.types.append(np.complex128)\n",
      "\u001b[36mFile \u001b[39m\u001b[32mc:\\Users\\alben\\AppData\\Local\\Programs\\Python\\Python313\\Lib\\site-packages\\numpy\\__init__.py:413\u001b[39m, in \u001b[36m__getattr__\u001b[39m\u001b[34m(attr)\u001b[39m\n\u001b[32m    410\u001b[39m     \u001b[38;5;28;01mraise\u001b[39;00m \u001b[38;5;167;01mAttributeError\u001b[39;00m(__former_attrs__[attr], name=\u001b[38;5;28;01mNone\u001b[39;00m)\n\u001b[32m    412\u001b[39m \u001b[38;5;28;01mif\u001b[39;00m attr \u001b[38;5;129;01min\u001b[39;00m __expired_attributes__:\n\u001b[32m--> \u001b[39m\u001b[32m413\u001b[39m     \u001b[38;5;28;01mraise\u001b[39;00m \u001b[38;5;167;01mAttributeError\u001b[39;00m(\n\u001b[32m    414\u001b[39m         \u001b[33mf\u001b[39m\u001b[33m\"\u001b[39m\u001b[33m`np.\u001b[39m\u001b[38;5;132;01m{\u001b[39;00mattr\u001b[38;5;132;01m}\u001b[39;00m\u001b[33m` was removed in the NumPy 2.0 release. \u001b[39m\u001b[33m\"\u001b[39m\n\u001b[32m    415\u001b[39m         \u001b[33mf\u001b[39m\u001b[33m\"\u001b[39m\u001b[38;5;132;01m{\u001b[39;00m__expired_attributes__[attr]\u001b[38;5;132;01m}\u001b[39;00m\u001b[33m\"\u001b[39m,\n\u001b[32m    416\u001b[39m         name=\u001b[38;5;28;01mNone\u001b[39;00m\n\u001b[32m    417\u001b[39m     )\n\u001b[32m    419\u001b[39m \u001b[38;5;28;01mif\u001b[39;00m attr == \u001b[33m\"\u001b[39m\u001b[33mchararray\u001b[39m\u001b[33m\"\u001b[39m:\n\u001b[32m    420\u001b[39m     warnings.warn(\n\u001b[32m    421\u001b[39m         \u001b[33m\"\u001b[39m\u001b[33m`np.chararray` is deprecated and will be removed from \u001b[39m\u001b[33m\"\u001b[39m\n\u001b[32m    422\u001b[39m         \u001b[33m\"\u001b[39m\u001b[33mthe main namespace in the future. Use an array with a string \u001b[39m\u001b[33m\"\u001b[39m\n\u001b[32m    423\u001b[39m         \u001b[33m\"\u001b[39m\u001b[33mor bytes dtype instead.\u001b[39m\u001b[33m\"\u001b[39m, \u001b[38;5;167;01mDeprecationWarning\u001b[39;00m, stacklevel=\u001b[32m2\u001b[39m)\n",
      "\u001b[31mAttributeError\u001b[39m: `np.float_` was removed in the NumPy 2.0 release. Use `np.float64` instead."
     ]
    }
   ],
   "source": [
    "import wandb\n",
    "import pandas as pd\n",
    "# Note that we use save_code=True in the call to wandb.init so the notebook is uploaded and versioned by W&B\n",
    "run = wandb.init(project=\"nyc_airbnb\", group=\"eda\", save_code=True)\n",
    "local_path = wandb.use_artifact(\"sample.csv:latest\").file()\n",
    "df = pd.read_csv(local_path)"
   ]
  },
  {
   "cell_type": "markdown",
   "id": "472b8c0d",
   "metadata": {},
   "source": [
    "2. Explore the data in df"
   ]
  },
  {
   "cell_type": "code",
   "execution_count": null,
   "id": "e7902159",
   "metadata": {},
   "outputs": [],
   "source": [
    "df.info()"
   ]
  },
  {
   "cell_type": "code",
   "execution_count": null,
   "id": "ef6f1457",
   "metadata": {},
   "outputs": [],
   "source": [
    "df.describe()"
   ]
  },
  {
   "cell_type": "code",
   "execution_count": null,
   "id": "13548f59",
   "metadata": {},
   "outputs": [],
   "source": [
    "df.head()"
   ]
  },
  {
   "cell_type": "markdown",
   "id": "ecfee692",
   "metadata": {},
   "source": [
    "3. What do you notice in the data? Look around and see what you can find.\n",
    "\n",
    "> For example, there are missing values in a few columns and the column `last_review` is a date but it is in string format. Look also at the `price` column, and note the outliers. There are some zeros and some very high prices. After talking to your stakeholders, you decide to consider from a minimum of `$10` to a maximum of `$350` per night."
   ]
  },
  {
   "cell_type": "markdown",
   "id": "b4bb415f",
   "metadata": {},
   "source": [
    "4. Fix some of the little problems we have found in the data with the following code:"
   ]
  },
  {
   "cell_type": "code",
   "execution_count": null,
   "id": "4d685317",
   "metadata": {},
   "outputs": [],
   "source": [
    "# Drop outliers\n",
    "min_price = 10\n",
    "max_price = 350\n",
    "idx = df['price'].between(min_price, max_price)\n",
    "df = df[idx].copy()\n",
    "# Convert last_review to datetime\n",
    "df['last_review'] = pd.to_datetime(df['last_review'])"
   ]
  },
  {
   "cell_type": "markdown",
   "id": "17990df4",
   "metadata": {},
   "source": [
    "Note how we did not impute missing values. We will do that in the inference pipeline, so we will be able to handle missing values also in production."
   ]
  },
  {
   "cell_type": "markdown",
   "id": "09287f29",
   "metadata": {},
   "source": [
    "5. Check with df.info() that all obvious problems have been solved"
   ]
  },
  {
   "cell_type": "code",
   "execution_count": null,
   "id": "b83b4970",
   "metadata": {},
   "outputs": [],
   "source": [
    "df.info()"
   ]
  },
  {
   "cell_type": "markdown",
   "id": "d727e697",
   "metadata": {},
   "source": [
    "6. Terminate the run by running `run.finish()`"
   ]
  },
  {
   "cell_type": "code",
   "execution_count": null,
   "id": "48b38586",
   "metadata": {},
   "outputs": [],
   "source": [
    "run.finish()"
   ]
  },
  {
   "cell_type": "markdown",
   "id": "13f82b21",
   "metadata": {},
   "source": [
    "7. Save the notebook."
   ]
  }
 ],
 "metadata": {
  "kernelspec": {
   "display_name": "Python 3",
   "language": "python",
   "name": "python3"
  },
  "language_info": {
   "codemirror_mode": {
    "name": "ipython",
    "version": 3
   },
   "file_extension": ".py",
   "mimetype": "text/x-python",
   "name": "python",
   "nbconvert_exporter": "python",
   "pygments_lexer": "ipython3",
   "version": "3.13.1"
  }
 },
 "nbformat": 4,
 "nbformat_minor": 5
}
